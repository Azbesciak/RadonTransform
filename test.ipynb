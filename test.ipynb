{
 "cells": [
  {
   "cell_type": "code",
   "execution_count": null,
   "metadata": {
    "collapsed": true
   },
   "outputs": [
    {
     "ename": "TypeError",
     "evalue": "__init__() missing 2 required positional arguments: 'interval' and 'function'",
     "traceback": [
      "\u001b[1;31m---------------------------------------------------------------------------\u001b[0m",
      "\u001b[1;31mTypeError\u001b[0m                                 Traceback (most recent call last)",
      "\u001b[1;32m<ipython-input-1-27f645aeeef7>\u001b[0m in \u001b[0;36m<module>\u001b[1;34m()\u001b[0m\n\u001b[0;32m      2\u001b[0m \u001b[0mget_ipython\u001b[0m\u001b[1;33m(\u001b[0m\u001b[1;33m)\u001b[0m\u001b[1;33m.\u001b[0m\u001b[0mrun_line_magic\u001b[0m\u001b[1;33m(\u001b[0m\u001b[1;34m'matplotlib'\u001b[0m\u001b[1;33m,\u001b[0m \u001b[1;34m'notebook'\u001b[0m\u001b[1;33m)\u001b[0m\u001b[1;33m\u001b[0m\u001b[0m\n\u001b[0;32m      3\u001b[0m \u001b[1;33m\u001b[0m\u001b[0m\n\u001b[1;32m----> 4\u001b[1;33m \u001b[0mt\u001b[0m \u001b[1;33m=\u001b[0m \u001b[0mtest\u001b[0m\u001b[1;33m.\u001b[0m\u001b[0mTimer\u001b[0m\u001b[1;33m(\u001b[0m\u001b[1;33m)\u001b[0m\u001b[1;33m\u001b[0m\u001b[0m\n\u001b[0m",
      "\u001b[1;31mTypeError\u001b[0m: __init__() missing 2 required positional arguments: 'interval' and 'function'"
     ],
     "output_type": "error"
    }
   ],
   "source": [
    "\n",
    "import numpy as np\n",
    "import matplotlib.pyplot as plt\n",
    "import matplotlib.animation as animation\n",
    "%matplotlib notebook\n",
    "from threading import Timer\n",
    "import time\n",
    "from threading import Thread\n",
    "\n",
    "ani2 = None\n",
    "ani = None\n",
    "\n",
    "class Test:\n",
    "\n",
    "    def __init__(self) -> None:\n",
    "        self.fig, (self.ax1, self.ax2) = plt.subplots(1, 2, figsize=(8, 8))\n",
    "        self.x = np.linspace(0, 2 * np.pi, 300)\n",
    "        self.y = np.linspace(0, 2 * np.pi, 300).reshape(-1, 1)\n",
    "        self.im1 = self.ax1.imshow(self.f(self.x, self.y), animated=True)\n",
    "        self.im2 = None\n",
    "\n",
    "    def f(self, x, y):\n",
    "        return np.sin(x) + np.cos(y)\n",
    "\n",
    "    def updatefig1(self, *args):\n",
    "        self.x += np.pi / 15.\n",
    "        self.y += np.pi / 20.\n",
    "        self.im1.set_array(self.f(self.x, self.y))\n",
    "        return self.im1,\n",
    "\n",
    "    def updatefig2(self, *args):\n",
    "        self.x += np.pi / 15.\n",
    "        self.y += np.pi / 20.\n",
    "        self.im2.set_array(self.f(self.x, self.y))\n",
    "        return self.im2,\n",
    "\n",
    "    def run_ani(self):\n",
    "        global ani2\n",
    "        print(\"fired\")\n",
    "        self.im2 = self.ax2.imshow(self.f(self.x, self.y), animated=True)\n",
    "        ani2 = animation.FuncAnimation(self.fig, self.updatefig2, interval=50, blit=True)\n",
    "\n",
    "\n",
    "def fire(t):\n",
    "    global ani\n",
    "    plt.show()\n",
    "    tim = Timer(5.0, t.run_ani)\n",
    "    tim.start()\n",
    "    ani = animation.FuncAnimation(t.fig, t.updatefig1, interval=50, blit=True)\n",
    "\n",
    "t = Test()\n",
    "Thread(target=fire, args=[t]).start()\n",
    "for i in range(20):\n",
    "    time.sleep(1)"
   ]
  },
  {
   "cell_type": "code",
   "execution_count": null,
   "metadata": {},
   "outputs": [],
   "source": []
  }
 ],
 "metadata": {
  "kernelspec": {
   "display_name": "Python 2",
   "language": "python",
   "name": "python2"
  },
  "language_info": {
   "codemirror_mode": {
    "name": "ipython",
    "version": 2
   },
   "file_extension": ".py",
   "mimetype": "text/x-python",
   "name": "python",
   "nbconvert_exporter": "python",
   "pygments_lexer": "ipython2",
   "version": "2.7.6"
  }
 },
 "nbformat": 4,
 "nbformat_minor": 0
}
