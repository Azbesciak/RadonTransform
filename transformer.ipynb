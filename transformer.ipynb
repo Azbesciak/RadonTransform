{
 "cells": [
  {
   "cell_type": "code",
   "execution_count": null,
   "metadata": {
    "collapsed": true
   },
   "outputs": [],
   "source": [
    "from utils import SelectFilesButton\n",
    "import transformer as tr\n",
    "import ipywidgets as widgets"
   ]
  },
  {
   "cell_type": "code",
   "execution_count": null,
   "metadata": {},
   "outputs": [],
   "source": [
    "file_select = SelectFilesButton()\n",
    "emitters_btn = widgets.IntText(\n",
    "    value=tr.params.emitters_num,\n",
    "    description='Emitters number',\n",
    "    disabled=False\n",
    ")\n",
    "\n",
    "alpha_btn = widgets.FloatText(\n",
    "    value=tr.params.alpha,\n",
    "    description='Alpha value',\n",
    "    disabled=False\n",
    ")\n",
    "\n",
    "use_filter_cbx = widgets.Checkbox(\n",
    "    value=tr.params.use_filter,\n",
    "    description='Use sinogram filter',\n",
    "    disabled=False\n",
    ")\n",
    "items = [file_select, alpha_btn, emitters_btn, use_filter_cbx]\n",
    "widgets.HBox(items)"
   ]
  }
 ],
 "metadata": {
  "kernelspec": {
   "display_name": "Python 2",
   "language": "python",
   "name": "python2"
  },
  "language_info": {
   "codemirror_mode": {
    "name": "ipython",
    "version": 2
   },
   "file_extension": ".py",
   "mimetype": "text/x-python",
   "name": "python",
   "nbconvert_exporter": "python",
   "pygments_lexer": "ipython2",
   "version": "2.7.6"
  }
 },
 "nbformat": 4,
 "nbformat_minor": 0
}
