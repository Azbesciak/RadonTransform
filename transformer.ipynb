{
 "cells": [
  {
   "cell_type": "code",
   "execution_count": 2,
   "metadata": {
    "collapsed": true
   },
   "outputs": [],
   "source": [
    "from utils import SelectFilesButton\n",
    "import transformer as tr\n",
    "import ipywidgets as widgets"
   ]
  },
  {
   "cell_type": "code",
   "execution_count": null,
   "metadata": {},
   "outputs": [],
   "source": []
  },
  {
   "cell_type": "code",
   "execution_count": 4,
   "metadata": {},
   "outputs": [],
   "source": [
    "file_select = SelectFilesButton()\n",
    "emitters_btn = widgets.IntText(\n",
    "    value=tr.params.emitters_num,\n",
    "    description='Emitters number',\n",
    "    disabled=False\n",
    ")\n",
    "\n",
    "alpha_btn = widgets.FloatText(\n",
    "    value=tr.params.alpha,\n",
    "    description='Alpha value',\n",
    "    disabled=False\n",
    ")\n",
    "\n",
    "use_filter_cbx = widgets.Checkbox(\n",
    "    value=tr.params.use_filter,\n",
    "    description='Use sinogram filter',\n",
    "    disabled=False\n",
    ")\n",
    "interactive_btn = widgets.Checkbox(\n",
    "    value=False,\n",
    "    description='Use interactive mode',\n",
    "    disabled=False\n",
    ")\n",
    "run_btn = widgets.Button(\n",
    "    description='Load',\n",
    "    disabled=False,\n",
    "    button_style='info',\n",
    "    tooltip='Run',\n",
    "    icon='check',\n",
    ")\n",
    "\n",
    "\n",
    "def run_task(e):\n",
    "    run_btn.disabled = True\n",
    "    tr.params.set_values(alpha_btn.value, emitters_btn.value, use_filter_cbx.value, file_select.files[0])\n",
    "    \n",
    "    \n",
    "run_btn.on_click(run_task)\n",
    "widgets.VBox([\n",
    "    widgets.HBox([file_select, alpha_btn, emitters_btn]),\n",
    "    widgets.HBox([use_filter_cbx, interactive_btn, run_btn]),\n",
    "])"
   ]
  },
  {
   "cell_type": "code",
   "execution_count": null,
   "metadata": {},
   "outputs": [],
   "source": []
  }
 ],
 "metadata": {
  "kernelspec": {
   "display_name": "Python 2",
   "language": "python",
   "name": "python2"
  },
  "language_info": {
   "codemirror_mode": {
    "name": "ipython",
    "version": 2
   },
   "file_extension": ".py",
   "mimetype": "text/x-python",
   "name": "python",
   "nbconvert_exporter": "python",
   "pygments_lexer": "ipython2",
   "version": "2.7.6"
  }
 },
 "nbformat": 4,
 "nbformat_minor": 0
}
