{
 "cells": [
  {
   "cell_type": "code",
   "execution_count": null,
   "metadata": {
    "collapsed": true
   },
   "outputs": [],
   "source": [
    "from utils import SelectFilesButton\n",
    "%matplotlib notebook\n",
    "import transformer as tr\n",
    "import ipywidgets as widgets\n",
    "import traceback"
   ]
  },
  {
   "cell_type": "code",
   "execution_count": null,
   "metadata": {},
   "outputs": [],
   "source": []
  },
  {
   "cell_type": "code",
   "execution_count": 1,
   "metadata": {},
   "outputs": [
    {
     "ename": "NameError",
     "evalue": "name 'SelectFilesButton' is not defined",
     "traceback": [
      "\u001b[1;31m---------------------------------------------------------------------------\u001b[0m",
      "\u001b[1;31mNameError\u001b[0m                                 Traceback (most recent call last)",
      "\u001b[1;32m<ipython-input-1-7468a2f6bea3>\u001b[0m in \u001b[0;36m<module>\u001b[1;34m()\u001b[0m\n\u001b[1;32m----> 1\u001b[1;33m \u001b[0mfile_select\u001b[0m \u001b[1;33m=\u001b[0m \u001b[0mSelectFilesButton\u001b[0m\u001b[1;33m(\u001b[0m\u001b[1;33m)\u001b[0m\u001b[1;33m\u001b[0m\u001b[0m\n\u001b[0m\u001b[0;32m      2\u001b[0m emitters_btn = widgets.IntText(\n\u001b[0;32m      3\u001b[0m     \u001b[0mvalue\u001b[0m\u001b[1;33m=\u001b[0m\u001b[0mtr\u001b[0m\u001b[1;33m.\u001b[0m\u001b[0mparams\u001b[0m\u001b[1;33m.\u001b[0m\u001b[0memitters_num\u001b[0m\u001b[1;33m,\u001b[0m\u001b[1;33m\u001b[0m\u001b[0m\n\u001b[0;32m      4\u001b[0m     \u001b[0mdescription\u001b[0m\u001b[1;33m=\u001b[0m\u001b[1;34m'Emitters number'\u001b[0m\u001b[1;33m,\u001b[0m\u001b[1;33m\u001b[0m\u001b[0m\n\u001b[0;32m      5\u001b[0m     \u001b[0mdisabled\u001b[0m\u001b[1;33m=\u001b[0m\u001b[1;32mFalse\u001b[0m\u001b[1;33m\u001b[0m\u001b[0m\n",
      "\u001b[1;31mNameError\u001b[0m: name 'SelectFilesButton' is not defined"
     ],
     "output_type": "error"
    }
   ],
   "source": [
    "file_select = SelectFilesButton()\n",
    "emitters_btn = widgets.IntText(\n",
    "    value=tr.params.emitters_num,\n",
    "    description='Emitters number',\n",
    "    disabled=False\n",
    ")\n",
    "\n",
    "alpha_btn = widgets.FloatText(\n",
    "    value=tr.params.alpha,\n",
    "    description='Alpha value',\n",
    "    disabled=False\n",
    ")\n",
    "\n",
    "use_filter_cbx = widgets.Checkbox(\n",
    "    value=tr.params.use_filter,\n",
    "    description='Use sinogram filter',\n",
    "    disabled=False\n",
    ")\n",
    "interactive_btn = widgets.Checkbox(\n",
    "    value=False,\n",
    "    description='Use interactive mode',\n",
    "    disabled=False\n",
    ")\n",
    "run_btn = widgets.Button(\n",
    "    description='Load',\n",
    "    disabled=False,\n",
    "    button_style='info',\n",
    "    tooltip='Run',\n",
    "    icon='check',\n",
    ")\n",
    "\n",
    "\n",
    "def run_task(e):\n",
    "    try:\n",
    "        run_btn.disabled = True\n",
    "        tr.params.set_values(alpha_btn.value, emitters_btn.value, use_filter_cbx.value, file_select.files[0])\n",
    "        scanner = tr.Scanner(tr.params)\n",
    "        scanner.watch_changes()\n",
    "    except Exception as e:\n",
    "        traceback.print_exc()\n",
    "    run_btn.disabled = False\n",
    "\n",
    "\n",
    "run_btn.on_click(run_task)\n",
    "widgets.VBox([\n",
    "    widgets.HBox([file_select, alpha_btn, emitters_btn]),\n",
    "    widgets.HBox([use_filter_cbx, interactive_btn, run_btn]),\n",
    "])"
   ]
  },
  {
   "cell_type": "code",
   "execution_count": null,
   "metadata": {},
   "outputs": [],
   "source": []
  }
 ],
 "metadata": {
  "kernelspec": {
   "display_name": "Python 2",
   "language": "python",
   "name": "python2"
  },
  "language_info": {
   "codemirror_mode": {
    "name": "ipython",
    "version": 2
   },
   "file_extension": ".py",
   "mimetype": "text/x-python",
   "name": "python",
   "nbconvert_exporter": "python",
   "pygments_lexer": "ipython2",
   "version": "2.7.6"
  }
 },
 "nbformat": 4,
 "nbformat_minor": 0
}
